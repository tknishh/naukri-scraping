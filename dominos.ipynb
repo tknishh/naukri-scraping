{
 "cells": [
  {
   "cell_type": "code",
   "execution_count": 7,
   "metadata": {},
   "outputs": [],
   "source": [
    "base_url = \"https://www.consumeraffairs.com/food/dominos.html\"\n",
    "# query_parameter = \"?page=\" + str(i)"
   ]
  },
  {
   "cell_type": "code",
   "execution_count": 4,
   "metadata": {},
   "outputs": [],
   "source": [
    "import pandas as pd\n",
    "import requests\n",
    "from bs4 import BeautifulSoup as bs"
   ]
  },
  {
   "cell_type": "code",
   "execution_count": 5,
   "metadata": {},
   "outputs": [],
   "source": [
    "all_reviews = []"
   ]
  },
  {
   "cell_type": "code",
   "execution_count": 28,
   "metadata": {},
   "outputs": [],
   "source": [
    "def scraper():\n",
    "    for i in range(1,6):\n",
    "        pagewise_reviews = []\n",
    "        query_parameter = \"?page=\"+str(i)\n",
    "        url = base_url + query_parameter\n",
    "        response = requests.get(url)\n",
    "        soup = bs(response.content,'html.parser')\n",
    "        rev_div = soup.findAll(\"div\",attrs={\"class\",\"rvw-bd\"})\n",
    "    for j in range(len(rev_div)):\n",
    "        pagewise_reviews.append(rev_div[j].find('p').text)\n",
    "    for k in range(len(pagewise_reviews)):\n",
    "        all_reviews.append(pagewise_reviews[k])\n",
    "        return all_reviews"
   ]
  },
  {
   "cell_type": "code",
   "execution_count": 29,
   "metadata": {},
   "outputs": [],
   "source": [
    "reviews = scraper()"
   ]
  },
  {
   "cell_type": "code",
   "execution_count": 32,
   "metadata": {},
   "outputs": [],
   "source": [
    "i = range(1, len(reviews)+1)\n",
    "reviews_df = pd.DataFrame({'Review':reviews}, index=i)\n",
    "reviews_df.to_csv('reviews.csv', index=False)"
   ]
  },
  {
   "cell_type": "code",
   "execution_count": null,
   "metadata": {},
   "outputs": [],
   "source": []
  },
  {
   "cell_type": "code",
   "execution_count": null,
   "metadata": {},
   "outputs": [],
   "source": []
  }
 ],
 "metadata": {
  "kernelspec": {
   "display_name": "Python 3",
   "language": "python",
   "name": "python3"
  },
  "language_info": {
   "codemirror_mode": {
    "name": "ipython",
    "version": 3
   },
   "file_extension": ".py",
   "mimetype": "text/x-python",
   "name": "python",
   "nbconvert_exporter": "python",
   "pygments_lexer": "ipython3",
   "version": "3.9.13"
  },
  "orig_nbformat": 4
 },
 "nbformat": 4,
 "nbformat_minor": 2
}
