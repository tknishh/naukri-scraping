{
 "cells": [
  {
   "cell_type": "code",
   "execution_count": 13,
   "metadata": {},
   "outputs": [],
   "source": []
  },
  {
   "cell_type": "code",
   "execution_count": null,
   "metadata": {},
   "outputs": [],
   "source": [
    "import csv\n",
    "import requests\n",
    "from bs4 import BeautifulSoup\n",
    "\n",
    "# Take user input for location\n",
    "location = input(\"Enter location to search: \")\n",
    "\n",
    "# Make a request to 99acres.com search page with the location as parameter\n",
    "url = f\"https://www.99acres.com/search/property/buy/residential-all/{location}\"\n",
    "response = requests.get(url)\n",
    "\n",
    "# Parse the HTML content of the search results page using Beautiful Soup\n",
    "soup = BeautifulSoup(response.content, \"html.parser\")\n",
    "\n",
    "# Find all the project listings on the page\n",
    "project_listings = soup.find_all(\"div\", {\"class\": \"srpWrap\"})\n",
    "\n",
    "# Create a CSV file to save the results\n",
    "with open(\"99acres_results.csv\", \"w\", newline=\"\", encoding=\"utf-8\") as file:\n",
    "    writer = csv.writer(file)\n",
    "    writer.writerow([\"Project\", \"Location\", \"Price\", \"Area\"])\n",
    "\n",
    "    # Loop through the project listings and write the results to the CSV file\n",
    "    for project in project_listings:\n",
    "        project_name = project.find(\"a\", {\"class\": \"srpTuple__propertyName\"}).text.strip()\n",
    "        project_location = project.find(\"span\", {\"class\": \"srpTuple__location\"}).text.strip()\n",
    "        project_price = project.find(\"td\", {\"class\": \"srpTuple__tuplePrice\"}).text.strip()\n",
    "        project_area = project.find(\"td\", {\"class\": \"srpTuple__tupleSuperBuiltArea\"}).text.strip()\n",
    "\n",
    "        writer.writerow([project_name, project_location, project_price, project_area])\n",
    "\n",
    "    # Take user input for filters\n",
    "    price_range = input(\"Enter price range (minimum-maximum): \")\n",
    "    area_range = input(\"Enter area range (minimum-maximum): \")\n",
    "\n",
    "    # Apply the filters to the search results and write the filtered results to the CSV file\n",
    "    for project in project_listings:\n",
    "        # Extract the project price and area as integers\n",
    "        project_price = int(project.find(\"td\", {\"class\": \"srpTuple__tuplePrice\"}).text.strip().replace(\",\", \"\"))\n",
    "        project_area = int(project.find(\"td\", {\"class\": \"srpTuple__tupleSuperBuiltArea\"}).text.strip().replace(\" sq.ft\", \"\"))\n",
    "    \n",
    "        # Check if the project meets the filter criteria\n",
    "        if project_price >= int(price_range.split(\"-\")[0]) and project_price <= int(price_range.split(\"-\")[1]) and project_area >= int(area_range.split(\"-\")[0]) and project_area <= int(area_range.split(\"-\")[1]):\n",
    "            project_name = project.find(\"a\", {\"class\": \"srpTuple__propertyName\"}).text.strip()\n",
    "            project_location = project.find(\"span\", {\"class\": \"srpTuple__location\"}).text.strip()\n",
    "            project_price = project.find(\"td\", {\"class\": \"srpTuple__tuplePrice\"}).text.strip()\n",
    "            project_area = project.find(\"td\", {\"class\": \"srpTuple__tupleSuperBuiltArea\"}).text.strip()\n",
    "            writer.writerow([project_name, project_location, project_price, project_area])\n"
   ]
  },
  {
   "cell_type": "code",
   "execution_count": 15,
   "metadata": {},
   "outputs": [
    {
     "data": {
      "text/plain": [
       "[]"
      ]
     },
     "execution_count": 15,
     "metadata": {},
     "output_type": "execute_result"
    }
   ],
   "source": []
  },
  {
   "cell_type": "code",
   "execution_count": null,
   "metadata": {},
   "outputs": [],
   "source": []
  }
 ],
 "metadata": {
  "kernelspec": {
   "display_name": "Python 3",
   "language": "python",
   "name": "python3"
  },
  "language_info": {
   "codemirror_mode": {
    "name": "ipython",
    "version": 3
   },
   "file_extension": ".py",
   "mimetype": "text/x-python",
   "name": "python",
   "nbconvert_exporter": "python",
   "pygments_lexer": "ipython3",
   "version": "3.9.13"
  },
  "orig_nbformat": 4
 },
 "nbformat": 4,
 "nbformat_minor": 2
}
