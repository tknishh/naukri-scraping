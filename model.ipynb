{
 "cells": [
  {
   "cell_type": "code",
   "execution_count": 9,
   "metadata": {},
   "outputs": [],
   "source": [
    "from selenium import webdriver\n",
    "from selenium.webdriver.common.by import By\n",
    "import csv\n",
    "import time\n",
    "\n",
    "# launch Chrome browser\n",
    "driver = webdriver.Chrome()\n",
    "\n",
    "# navigate to naukri.com\n",
    "driver.get(\"https://www.naukri.com/data-scientist-jobs?k=data%20scientist\")\n",
    "\n",
    "# maximize the browser window\n",
    "driver.maximize_window()\n",
    "\n",
    "# wait for the search results page to load\n",
    "time.sleep(5)\n",
    "\n",
    "# extract the required information from the search results and save to CSV\n",
    "with open('job_details.csv', mode='w', newline='') as file:\n",
    "    writer = csv.writer(file)\n",
    "    writer.writerow(['Company Name', 'Job Description', 'Location', 'Job Profile'])\n",
    "    \n",
    "    for job in driver.find_elements(By.XPATH, \"//article[@class='jobTuple bgWhite br4 mb-8']\"):\n",
    "        company_name = job.find_element(By.XPATH, \".//a[@class='subTitle ellipsis fleft']\")\n",
    "        job_description = job.find_element(By.XPATH, \".//ul[@class='tags has-description']\")\n",
    "        location = job.find_element(By.XPATH, \".//li[@class='fleft grey-text br2 placeHolderLi location']\")\n",
    "        job_profile = job.find_element(By.XPATH, \".//a[@class='title fw500 ellipsis']\")\n",
    "        \n",
    "        writer.writerow([company_name.text, job_description.text, location.text, job_profile.text])\n",
    "\n",
    "# close the browser window\n",
    "driver.quit()"
   ]
  },
  {
   "cell_type": "code",
   "execution_count": 33,
   "metadata": {},
   "outputs": [
    {
     "ename": "NoSuchElementException",
     "evalue": "Message: no such element: Unable to locate element: {\"method\":\"css selector\",\"selector\":\"title.ellipsis\"}\n  (Session info: chrome=113.0.5672.64)\nStacktrace:\nBacktrace:\n\tGetHandleVerifier [0x01208893+48451]\n\t(No symbol) [0x0119B8A1]\n\t(No symbol) [0x010A5058]\n\t(No symbol) [0x010D0467]\n\t(No symbol) [0x010D069B]\n\t(No symbol) [0x010FDD92]\n\t(No symbol) [0x010EA304]\n\t(No symbol) [0x010FC482]\n\t(No symbol) [0x010EA0B6]\n\t(No symbol) [0x010C7E08]\n\t(No symbol) [0x010C8F2D]\n\tGetHandleVerifier [0x01468E3A+2540266]\n\tGetHandleVerifier [0x014A8959+2801161]\n\tGetHandleVerifier [0x014A295C+2776588]\n\tGetHandleVerifier [0x01292280+612144]\n\t(No symbol) [0x011A4F6C]\n\t(No symbol) [0x011A11D8]\n\t(No symbol) [0x011A12BB]\n\t(No symbol) [0x01194857]\n\tBaseThreadInitThunk [0x761E7D59+25]\n\tRtlInitializeExceptionChain [0x777BB74B+107]\n\tRtlClearBits [0x777BB6CF+191]\n",
     "output_type": "error",
     "traceback": [
      "\u001b[1;31m---------------------------------------------------------------------------\u001b[0m",
      "\u001b[1;31mNoSuchElementException\u001b[0m                    Traceback (most recent call last)",
      "Cell \u001b[1;32mIn[33], line 33\u001b[0m\n\u001b[0;32m     30\u001b[0m driver\u001b[39m.\u001b[39mget(\u001b[39m\"\u001b[39m\u001b[39mhttps://www.naukri.com/data-scientist-jobs?k=data\u001b[39m\u001b[39m%20s\u001b[39;00m\u001b[39mcientist\u001b[39m\u001b[39m\"\u001b[39m)\n\u001b[0;32m     32\u001b[0m \u001b[39m# find the job title elements\u001b[39;00m\n\u001b[1;32m---> 33\u001b[0m job_title \u001b[39m=\u001b[39m driver\u001b[39m.\u001b[39;49mfind_element(\u001b[39m\"\u001b[39;49m\u001b[39mcss selector\u001b[39;49m\u001b[39m\"\u001b[39;49m, \u001b[39m\"\u001b[39;49m\u001b[39mtitle.ellipsis\u001b[39;49m\u001b[39m\"\u001b[39;49m)\n\u001b[0;32m     34\u001b[0m job_title\u001b[39m.\u001b[39mtext\n\u001b[0;32m     35\u001b[0m \u001b[39m# # company = driver.find_elements(By.CLASS_NAME, \"subTitle\")\u001b[39;00m\n\u001b[0;32m     36\u001b[0m \u001b[39m# title = []\u001b[39;00m\n\u001b[0;32m     37\u001b[0m \u001b[39m# # company_name = []\u001b[39;00m\n\u001b[1;32m   (...)\u001b[0m\n\u001b[0;32m     44\u001b[0m \u001b[39m# data.to_csv('Job List.csv')\u001b[39;00m\n\u001b[0;32m     45\u001b[0m \u001b[39m# print(data)\u001b[39;00m\n",
      "File \u001b[1;32mc:\\Users\\Tedd\\AppData\\Local\\Programs\\Python\\Python39\\lib\\site-packages\\selenium\\webdriver\\remote\\webdriver.py:831\u001b[0m, in \u001b[0;36mWebDriver.find_element\u001b[1;34m(self, by, value)\u001b[0m\n\u001b[0;32m    828\u001b[0m     by \u001b[39m=\u001b[39m By\u001b[39m.\u001b[39mCSS_SELECTOR\n\u001b[0;32m    829\u001b[0m     value \u001b[39m=\u001b[39m \u001b[39mf\u001b[39m\u001b[39m'\u001b[39m\u001b[39m[name=\u001b[39m\u001b[39m\"\u001b[39m\u001b[39m{\u001b[39;00mvalue\u001b[39m}\u001b[39;00m\u001b[39m\"\u001b[39m\u001b[39m]\u001b[39m\u001b[39m'\u001b[39m\n\u001b[1;32m--> 831\u001b[0m \u001b[39mreturn\u001b[39;00m \u001b[39mself\u001b[39;49m\u001b[39m.\u001b[39;49mexecute(Command\u001b[39m.\u001b[39;49mFIND_ELEMENT, {\u001b[39m\"\u001b[39;49m\u001b[39musing\u001b[39;49m\u001b[39m\"\u001b[39;49m: by, \u001b[39m\"\u001b[39;49m\u001b[39mvalue\u001b[39;49m\u001b[39m\"\u001b[39;49m: value})[\u001b[39m\"\u001b[39m\u001b[39mvalue\u001b[39m\u001b[39m\"\u001b[39m]\n",
      "File \u001b[1;32mc:\\Users\\Tedd\\AppData\\Local\\Programs\\Python\\Python39\\lib\\site-packages\\selenium\\webdriver\\remote\\webdriver.py:440\u001b[0m, in \u001b[0;36mWebDriver.execute\u001b[1;34m(self, driver_command, params)\u001b[0m\n\u001b[0;32m    438\u001b[0m response \u001b[39m=\u001b[39m \u001b[39mself\u001b[39m\u001b[39m.\u001b[39mcommand_executor\u001b[39m.\u001b[39mexecute(driver_command, params)\n\u001b[0;32m    439\u001b[0m \u001b[39mif\u001b[39;00m response:\n\u001b[1;32m--> 440\u001b[0m     \u001b[39mself\u001b[39;49m\u001b[39m.\u001b[39;49merror_handler\u001b[39m.\u001b[39;49mcheck_response(response)\n\u001b[0;32m    441\u001b[0m     response[\u001b[39m\"\u001b[39m\u001b[39mvalue\u001b[39m\u001b[39m\"\u001b[39m] \u001b[39m=\u001b[39m \u001b[39mself\u001b[39m\u001b[39m.\u001b[39m_unwrap_value(response\u001b[39m.\u001b[39mget(\u001b[39m\"\u001b[39m\u001b[39mvalue\u001b[39m\u001b[39m\"\u001b[39m, \u001b[39mNone\u001b[39;00m))\n\u001b[0;32m    442\u001b[0m     \u001b[39mreturn\u001b[39;00m response\n",
      "File \u001b[1;32mc:\\Users\\Tedd\\AppData\\Local\\Programs\\Python\\Python39\\lib\\site-packages\\selenium\\webdriver\\remote\\errorhandler.py:245\u001b[0m, in \u001b[0;36mErrorHandler.check_response\u001b[1;34m(self, response)\u001b[0m\n\u001b[0;32m    243\u001b[0m         alert_text \u001b[39m=\u001b[39m value[\u001b[39m\"\u001b[39m\u001b[39malert\u001b[39m\u001b[39m\"\u001b[39m]\u001b[39m.\u001b[39mget(\u001b[39m\"\u001b[39m\u001b[39mtext\u001b[39m\u001b[39m\"\u001b[39m)\n\u001b[0;32m    244\u001b[0m     \u001b[39mraise\u001b[39;00m exception_class(message, screen, stacktrace, alert_text)  \u001b[39m# type: ignore[call-arg]  # mypy is not smart enough here\u001b[39;00m\n\u001b[1;32m--> 245\u001b[0m \u001b[39mraise\u001b[39;00m exception_class(message, screen, stacktrace)\n",
      "\u001b[1;31mNoSuchElementException\u001b[0m: Message: no such element: Unable to locate element: {\"method\":\"css selector\",\"selector\":\"title.ellipsis\"}\n  (Session info: chrome=113.0.5672.64)\nStacktrace:\nBacktrace:\n\tGetHandleVerifier [0x01208893+48451]\n\t(No symbol) [0x0119B8A1]\n\t(No symbol) [0x010A5058]\n\t(No symbol) [0x010D0467]\n\t(No symbol) [0x010D069B]\n\t(No symbol) [0x010FDD92]\n\t(No symbol) [0x010EA304]\n\t(No symbol) [0x010FC482]\n\t(No symbol) [0x010EA0B6]\n\t(No symbol) [0x010C7E08]\n\t(No symbol) [0x010C8F2D]\n\tGetHandleVerifier [0x01468E3A+2540266]\n\tGetHandleVerifier [0x014A8959+2801161]\n\tGetHandleVerifier [0x014A295C+2776588]\n\tGetHandleVerifier [0x01292280+612144]\n\t(No symbol) [0x011A4F6C]\n\t(No symbol) [0x011A11D8]\n\t(No symbol) [0x011A12BB]\n\t(No symbol) [0x01194857]\n\tBaseThreadInitThunk [0x761E7D59+25]\n\tRtlInitializeExceptionChain [0x777BB74B+107]\n\tRtlClearBits [0x777BB6CF+191]\n"
     ]
    }
   ],
   "source": [
    "from selenium import webdriver\n",
    "from selenium.webdriver.chrome.service import Service\n",
    "from webdriver_manager.chrome import ChromeDriverManager\n",
    "from selenium.webdriver.common.by import By\n",
    "from selenium.webdriver.common.keys import Keys\n",
    "import pandas as pd\n",
    "import time\n",
    "\n",
    "# driver  = webdriver.Chrome(ChromeDriverManager().install())\n",
    "# options=webdriver.ChromeOptions()\n",
    "# options.add_experimental_option(\"detach\",True)\n",
    "# driver = webdriver.Chrome(options=options)\n",
    "# #driver.maximize_window()\n",
    "# driver.get(\"https://www.naukri.com\")\n",
    "# job_title = driver.find_elements(By.CLASS_NAME, \"title ellipsis\")\n",
    "# title = []\n",
    "# for i in range(len(job_title)):\n",
    "#    title.append(job_title[i].text)\n",
    "# title\n",
    "\n",
    "   #driver.find_element(By.CLASS_NAME,\"b1\").click()\n",
    "   #search_input=driver.find_element(By.ID,\"search\")\n",
    "   #search_input.send_keys(\"Agriculture\")\n",
    "   #search_input.send_keys(Keys.RETURN)\n",
    "\n",
    "\n",
    "driver = webdriver.Chrome()\n",
    "\n",
    "# navigate to the webpage\n",
    "driver.get(\"https://www.naukri.com/data-scientist-jobs?k=data%20scientist\")\n",
    "\n",
    "# find the job title elements\n",
    "job_title = driver.find_elements(By.CLASS_NAME, \"title\")\n",
    "company = driver.find_elements(By.CLASS_NAME, \"subTitle\")\n",
    "loc = driver.find_elements(By.CLASS_NAME, \"ellipsis\")\n",
    "\n",
    "title = []\n",
    "location = []\n",
    "company_name = []\n",
    "for i in range(len(job_title)):\n",
    "    title.append(job_title[i].text)\n",
    "    company_name.append(company[i].text)\n",
    "    location.append(loc[i].text)\n",
    "\n",
    "data = pd.DataFrame(title)    \n",
    "\n",
    "data.to_csv('Job List.csv')\n",
    "print(data)\n",
    "\n"
   ]
  },
  {
   "cell_type": "code",
   "execution_count": 24,
   "metadata": {},
   "outputs": [
    {
     "data": {
      "text/plain": [
       "[]"
      ]
     },
     "execution_count": 24,
     "metadata": {},
     "output_type": "execute_result"
    }
   ],
   "source": [
    "title"
   ]
  },
  {
   "cell_type": "code",
   "execution_count": null,
   "metadata": {},
   "outputs": [],
   "source": []
  }
 ],
 "metadata": {
  "kernelspec": {
   "display_name": "Python 3",
   "language": "python",
   "name": "python3"
  },
  "language_info": {
   "codemirror_mode": {
    "name": "ipython",
    "version": 3
   },
   "file_extension": ".py",
   "mimetype": "text/x-python",
   "name": "python",
   "nbconvert_exporter": "python",
   "pygments_lexer": "ipython3",
   "version": "3.9.13"
  },
  "orig_nbformat": 4
 },
 "nbformat": 4,
 "nbformat_minor": 2
}
