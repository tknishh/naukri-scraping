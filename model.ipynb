{
 "cells": [
  {
   "cell_type": "code",
   "execution_count": 7,
   "metadata": {},
   "outputs": [],
   "source": [
    "from selenium import webdriver\n",
    "from selenium.webdriver.common.by import By\n",
    "import csv\n",
    "import time\n",
    "\n",
    "# launch Chrome browser\n",
    "driver = webdriver.Chrome()\n",
    "\n",
    "# navigate to naukri.com\n",
    "driver.get(\"https://www.naukri.com/data-scientist-jobs?k=data%20scientist\")\n",
    "\n",
    "# maximize the browser window\n",
    "driver.maximize_window()\n",
    "\n",
    "# wait for the search results page to load\n",
    "time.sleep(5)\n",
    "\n",
    "# extract the required information from the search results and save to CSV\n",
    "with open('job_details.csv', mode='w', newline='') as file:\n",
    "    writer = csv.writer(file)\n",
    "    writer.writerow(['Company Name', 'Location', 'Job Profile'])\n",
    "    \n",
    "    for job in driver.find_elements(By.XPATH, \"//*[@id='root']/div[4]/div/div/section[2]\"):\n",
    "        company_name = job.find_element(By.XPATH, \"//*[@id='root']/div[4]/div/div/section[2]/div[2]/article[1]/div[1]/div[1]/a\")\n",
    "        # job_description = job.find_element(By.XPATH, \".//ul[@class='tags has-description']\")\n",
    "        location = job.find_element(By.XPATH, \"//*[@id='root']/div[4]/div/div/section[2]/div[2]/article[1]/div[1]/ul/li[3]/span\")\n",
    "        job_profile = job.find_element(By.XPATH, \"//*[@id='root']/div[4]/div/div/section[2]/div[2]/article[1]/div[2]\")\n",
    "        \n",
    "        writer.writerow([company_name.text, location.text, job_profile.text])\n",
    "\n",
    "# close the browser window\n",
    "driver.quit()"
   ]
  },
  {
   "cell_type": "code",
   "execution_count": null,
   "metadata": {},
   "outputs": [],
   "source": [
    "//*[@id=\"root\"]/div[4]/div/div/section[2]/div[2]/article[1]/div[1]/div[1]/a"
   ]
  },
  {
   "cell_type": "code",
   "execution_count": 16,
   "metadata": {},
   "outputs": [
    {
     "name": "stdout",
     "output_type": "stream",
     "text": [
      "Empty DataFrame\n",
      "Columns: [Company Name, Job Title, Location]\n",
      "Index: []\n"
     ]
    }
   ],
   "source": [
    "from selenium import webdriver\n",
    "from selenium.webdriver.chrome.service import Service\n",
    "from webdriver_manager.chrome import ChromeDriverManager\n",
    "from selenium.webdriver.common.by import By\n",
    "from selenium.webdriver.common.keys import Keys\n",
    "import pandas as pd\n",
    "import time\n",
    "\n",
    "driver = webdriver.Chrome()\n",
    "title = []\n",
    "location = []\n",
    "company_name = []\n",
    "# navigate to the webpage\n",
    "driver.get(\"https://www.naukri.com/data-scientist-jobs?k=data%20scientist\")\n",
    "\n",
    "# find the job title elements\n",
    "job_title = driver.find_elements(By.CLASS_NAME, \"a.title.ellipsis\")\n",
    "company = driver.find_elements(By.CLASS_NAME, \"subTitle\")\n",
    "loc = driver.find_elements(By.CLASS_NAME, \"ellipsis\")\n",
    "\n",
    "\n",
    "for i in range(len(job_title)):\n",
    "    title.append(job_title[i].text)\n",
    "\n",
    "for i in range(len(company)):\n",
    "    company_name.append(company[i].text)\n",
    "\n",
    "for i in range(len(loc)):\n",
    "    location.append(loc[i].text)\n",
    "\n",
    "data = pd.DataFrame(zip(company_name,title,location),columns=['Company Name','Job Title','Location'])    \n",
    "\n",
    "data.to_csv('Job List.csv')\n",
    "print(data)\n"
   ]
  },
  {
   "cell_type": "code",
   "execution_count": 17,
   "metadata": {},
   "outputs": [
    {
     "data": {
      "text/html": [
       "<div>\n",
       "<style scoped>\n",
       "    .dataframe tbody tr th:only-of-type {\n",
       "        vertical-align: middle;\n",
       "    }\n",
       "\n",
       "    .dataframe tbody tr th {\n",
       "        vertical-align: top;\n",
       "    }\n",
       "\n",
       "    .dataframe thead th {\n",
       "        text-align: right;\n",
       "    }\n",
       "</style>\n",
       "<table border=\"1\" class=\"dataframe\">\n",
       "  <thead>\n",
       "    <tr style=\"text-align: right;\">\n",
       "      <th></th>\n",
       "      <th>Company Name</th>\n",
       "      <th>Job Title</th>\n",
       "      <th>Location</th>\n",
       "    </tr>\n",
       "  </thead>\n",
       "  <tbody>\n",
       "  </tbody>\n",
       "</table>\n",
       "</div>"
      ],
      "text/plain": [
       "Empty DataFrame\n",
       "Columns: [Company Name, Job Title, Location]\n",
       "Index: []"
      ]
     },
     "execution_count": 17,
     "metadata": {},
     "output_type": "execute_result"
    }
   ],
   "source": [
    "data.head(15)"
   ]
  },
  {
   "cell_type": "code",
   "execution_count": 7,
   "metadata": {},
   "outputs": [
    {
     "data": {
      "text/plain": [
       "[]"
      ]
     },
     "execution_count": 7,
     "metadata": {},
     "output_type": "execute_result"
    }
   ],
   "source": []
  },
  {
   "cell_type": "code",
   "execution_count": null,
   "metadata": {},
   "outputs": [],
   "source": []
  }
 ],
 "metadata": {
  "kernelspec": {
   "display_name": "Python 3",
   "language": "python",
   "name": "python3"
  },
  "language_info": {
   "codemirror_mode": {
    "name": "ipython",
    "version": 3
   },
   "file_extension": ".py",
   "mimetype": "text/x-python",
   "name": "python",
   "nbconvert_exporter": "python",
   "pygments_lexer": "ipython3",
   "version": "3.9.13"
  },
  "orig_nbformat": 4
 },
 "nbformat": 4,
 "nbformat_minor": 2
}
